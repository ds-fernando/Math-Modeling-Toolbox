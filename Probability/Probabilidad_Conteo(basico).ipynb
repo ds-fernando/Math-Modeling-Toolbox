{
  "cells": [
    {
      "cell_type": "code",
      "execution_count": 2,
      "metadata": {
        "id": "nrE9GZI4I3jV"
      },
      "outputs": [],
      "source": [
        "import itertools"
      ]
    },
    {
      "cell_type": "markdown",
      "metadata": {
        "id": "_nzzuhLKGg1b"
      },
      "source": [
        "# Algunos ejemplos basicos de calculo de probabilidad y combinatoria"
      ]
    },
    {
      "cell_type": "markdown",
      "metadata": {
        "id": "ctqUJAuFHJMT"
      },
      "source": [
        "# Ejemplo Permutación\n",
        " A smart-phone has a 4-digit passcode. Suppose there are 4 smudges over 4 digits on the screen. How many distinct passcodes are possible?\n",
        "\n",
        "Extraido de: Probability for Computer Scientists Course Reader for Stanford CS109"
      ]
    },
    {
      "cell_type": "code",
      "execution_count": 3,
      "metadata": {
        "colab": {
          "base_uri": "https://localhost:8080/"
        },
        "id": "9uV6YQ0jGmn9",
        "outputId": "a952165c-1f8b-4b25-db5c-ffc468044093"
      },
      "outputs": [
        {
          "name": "stdout",
          "output_type": "stream",
          "text": [
            "Existen 24 posibles claves\n",
            "Una posible clave es(0, 1, 2, 3)\n",
            "Una posible clave es(0, 1, 3, 2)\n",
            "Una posible clave es(0, 2, 1, 3)\n",
            "Una posible clave es(0, 2, 3, 1)\n",
            "Una posible clave es(0, 3, 1, 2)\n",
            "Una posible clave es(0, 3, 2, 1)\n",
            "Una posible clave es(1, 0, 2, 3)\n",
            "Una posible clave es(1, 0, 3, 2)\n",
            "Una posible clave es(1, 2, 0, 3)\n",
            "Una posible clave es(1, 2, 3, 0)\n",
            "Una posible clave es(1, 3, 0, 2)\n",
            "Una posible clave es(1, 3, 2, 0)\n",
            "Una posible clave es(2, 0, 1, 3)\n",
            "Una posible clave es(2, 0, 3, 1)\n",
            "Una posible clave es(2, 1, 0, 3)\n",
            "Una posible clave es(2, 1, 3, 0)\n",
            "Una posible clave es(2, 3, 0, 1)\n",
            "Una posible clave es(2, 3, 1, 0)\n",
            "Una posible clave es(3, 0, 1, 2)\n",
            "Una posible clave es(3, 0, 2, 1)\n",
            "Una posible clave es(3, 1, 0, 2)\n",
            "Una posible clave es(3, 1, 2, 0)\n",
            "Una posible clave es(3, 2, 0, 1)\n",
            "Una posible clave es(3, 2, 1, 0)\n"
          ]
        }
      ],
      "source": [
        "#La clave es de 4 digitos y suponiendo que los digitos manchados son 0,1,2,3\n",
        "posibles_claves = list(itertools.permutations([0,1,2,3]))  #Note que esto es lo mismo que calcular n! donde n es el tamaño de la lista\n",
        "print(f\"Existen {len(posibles_claves)} posibles claves\")\n",
        "\n",
        "for i in posibles_claves:\n",
        "    print(f\"Una posible clave es{i}\")"
      ]
    },
    {
      "cell_type": "markdown",
      "metadata": {
        "id": "aon_LzjnRStT"
      },
      "source": [
        "# Segundo Ejemplo\n",
        "Ahora supongamos que los posibles digitos de la clave seran del 0 al 9, igualmente la clave tiene 4 digitos.\n",
        "\n",
        "**Desarrollo Matemático**\n",
        "El problema se reduce a determinar el numero de grupos diferentes de 4 digitos que se pueden formar con un total de 9 dígitos donde importa el orden.\n"
      ]
    }
  ],
  "metadata": {
    "colab": {
      "provenance": []
    },
    "kernelspec": {
      "display_name": "venv_common",
      "language": "python",
      "name": "python3"
    },
    "language_info": {
      "codemirror_mode": {
        "name": "ipython",
        "version": 3
      },
      "file_extension": ".py",
      "mimetype": "text/x-python",
      "name": "python",
      "nbconvert_exporter": "python",
      "pygments_lexer": "ipython3",
      "version": "3.12.6"
    }
  },
  "nbformat": 4,
  "nbformat_minor": 0
}
